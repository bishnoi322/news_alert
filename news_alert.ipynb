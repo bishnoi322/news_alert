{
 "cells": [
  {
   "cell_type": "code",
   "execution_count": 54,
   "id": "e8fbbb1e-2d6b-40dd-a77e-33cd6aa1e8ea",
   "metadata": {},
   "outputs": [],
   "source": [
    "from slack import WebClient\n",
    "from slack.errors import SlackApiError\n",
    "import requests\n",
    "from newsapi import NewsApiClient\n",
    "from datetime import datetime, timedelta\n",
    "\n",
    "email_addresses = ['apacpress@tesla.com']\n",
    "\n",
    "def extract_company_name(email):\n",
    "    company_name = email.split('@')[-1].split('.')[0]\n",
    "    if company_name:\n",
    "        return company_name\n",
    "    else:\n",
    "        return None\n",
    "\n",
    "def locate_google_news_alerts(emails, date = None):\n",
    "   \n",
    "    if date is None:\n",
    "        date = (datetime.today()).strftime('%Y-%m-%d')\n",
    "    date2 = (datetime.today() - timedelta(days=1)).strftime('%Y-%m-%d')\n",
    "    api_key = '87d2b7f06cfa40ba8dde5bc7a635a7d5'\n",
    "    newsapi = NewsApiClient(api_key=api_key)\n",
    "    \n",
    "    for email in emails:\n",
    "        company_name = extract_company_name(email)\n",
    "        if company_name:\n",
    "            articles = newsapi.get_everything(q=company_name, language='en', from_param=date2, to=date)\n",
    "            message = ''\n",
    "            if articles['totalResults'] > 0:\n",
    "                \n",
    "                messsage = f\"News alerts for {company_name} :\"\n",
    "                for article in articles['articles']:\n",
    "                    message += f\"Title: {article['title']}\\nURL: {article['url']}\\n\"\n",
    "                send_to_slack(message)    \n",
    "                    \n",
    "            else:\n",
    "                send_to_slack(f\"No news alerts found for {company_name} \")\n",
    "        else:\n",
    "            send_to_slack(f\"Unable to extract company name from {email}\")\n",
    "def send_to_slack(message):\n",
    "    \n",
    "    client = WebClient(token='your_token')\n",
    "    \n",
    "    try:\n",
    "        response = client.chat_postMessage(channel='your_channel', text=message)\n",
    "        assert response[\"message\"][\"text\"] == message\n",
    "        print(\"News alerts sent to Slack successfully!\")\n",
    "    except SlackApiError as e:\n",
    "        print(f\"Error sending message to Slack: {e.response['error']}\")   \n",
    "def main():\n",
    "     locate_google_news_alerts(email_addresses)  \n",
    "if __name__ == \"__main__\":\n",
    "    main()"
   ]
  }
 ],
 "metadata": {
  "kernelspec": {
   "display_name": "Python 3 (ipykernel)",
   "language": "python",
   "name": "python3"
  },
  "language_info": {
   "codemirror_mode": {
    "name": "ipython",
    "version": 3
   },
   "file_extension": ".py",
   "mimetype": "text/x-python",
   "name": "python",
   "nbconvert_exporter": "python",
   "pygments_lexer": "ipython3",
   "version": "3.11.4"
  }
 },
 "nbformat": 4,
 "nbformat_minor": 5
}
